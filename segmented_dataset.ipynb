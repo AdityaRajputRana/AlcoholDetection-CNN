{
 "cells": [
  {
   "cell_type": "markdown",
   "metadata": {},
   "source": [
    " <!-- SVM, Small VGG Network, ArcFace, FCapNetwork -->"
   ]
  },
  {
   "cell_type": "code",
   "execution_count": 1,
   "metadata": {},
   "outputs": [
    {
     "name": "stdout",
     "output_type": "stream",
     "text": [
      "Our dataset = \n",
      "['Grupo_0', 'Grupo_1', '.DS_Store', 'Grupo_4', 'Grupo_3', 'Grupo_2', 'Grupo_5']\n"
     ]
    }
   ],
   "source": [
    "import os\n",
    "import numpy as np\n",
    "import cv2 \n",
    "import json\n",
    "from matplotlib import pyplot as plt\n",
    "from sklearn.model_selection import train_test_split\n",
    "from tensorflow.keras.utils import to_categorical # Import the to_categorical function from Keras\n",
    "from tensorflow.keras.layers import Dropout, Conv2D, MaxPooling2D, Flatten, Dense # Import the Dropout class from Keras\n",
    "from tensorflow.keras.models import Sequential\n",
    "import random\n",
    "\n",
    "\n",
    "dataset_path = \"data\"\n",
    "image_size = (64*3, 48*3)\n",
    "\n",
    "print('Our dataset = ')\n",
    "print(os.listdir(dataset_path))"
   ]
  },
  {
   "cell_type": "code",
   "execution_count": 2,
   "metadata": {},
   "outputs": [],
   "source": [
    "def load_json_data(json_file_path):\n",
    "    with open(json_file_path, 'r') as jsonfile:\n",
    "        return json.load(jsonfile)\n",
    "\n",
    "def extract_segments(json_data):\n",
    "    segments = {}\n",
    "    for img in json_data:\n",
    "        val = json_data[img]\n",
    "        regions = val['regions']\n",
    "        for region in regions:\n",
    "            shape_attributes = region.get('shape_attributes', {})\n",
    "            region_attributes = region.get('region_attributes', {})\n",
    "            \n",
    "            if region_attributes.get('Eye') == 'iris':\n",
    "                x_points = shape_attributes.get('all_points_x', [])\n",
    "                y_points = shape_attributes.get('all_points_y', [])\n",
    "                segments[val['filename']] = list(zip(x_points, y_points))\n",
    "    return segments\n",
    "\n",
    "def traverse_data_folder(data_folder):\n",
    "    all_segments = {}\n",
    "    for root, _, files in os.walk(data_folder):\n",
    "        for file in files:\n",
    "            if file.endswith('.json'):\n",
    "                json_file_path = os.path.join(root, file)\n",
    "                json_data = load_json_data(json_file_path)\n",
    "                segments = extract_segments(json_data)\n",
    "                all_segments.update(segments)\n",
    "    return all_segments\n",
    "\n",
    "def generate_mask(image_shape, coordinates):\n",
    "    mask = np.zeros(image_shape[:2], dtype=np.uint8)\n",
    "    if coordinates:\n",
    "        cv2.fillPoly(mask, [np.array(coordinates, dtype=np.int32)], 255)\n",
    "    return mask\n",
    "\n",
    "def apply_mask_to_image(image, mask):\n",
    "    masked_image =  cv2.bitwise_and(image, image, mask=mask)\n",
    "    if len(masked_image.shape) == 3 and masked_image.shape[2] == 3:\n",
    "        masked_image = cv2.cvtColor(masked_image, cv2.COLOR_BGR2GRAY)\n",
    "    return masked_image\n",
    "\n",
    "\n",
    "from IPython.display import clear_output\n",
    "\n",
    "def get_segmented_images(images, names, segments):\n",
    "    n_images = []\n",
    "    shape = None\n",
    "    for i in range(names.size):\n",
    "        clear_output(wait=True)\n",
    "        name = names[i]\n",
    "        image = images[i]\n",
    "        if (name not in segments):\n",
    "            resized_img = cv2.resize(image, image_size)\n",
    "            n_images.append(resized_img)\n",
    "            continue\n",
    "        segment = segments[name]\n",
    "        print(image.shape)\n",
    "        mask = generate_mask(image.shape, segment)\n",
    "        masked_image = apply_mask_to_image(image, mask)\n",
    "        resized_img = cv2.resize(masked_image, image_size)\n",
    "        if shape == None:\n",
    "            shape = resized_img.shape\n",
    "        elif shape != resized_img.shape:\n",
    "            print(shape)\n",
    "            print(resized_img.shape)\n",
    "            print(name)\n",
    "            return\n",
    "        n_images.append(resized_img)\n",
    "        print(i)\n",
    "    \n",
    "    return n_images\n",
    "\n",
    "def display_images(image, mask, masked_image, ffd=\"Image\"):\n",
    "    plt.figure(figsize=(15, 5))\n",
    "    plt.title(ffd)\n",
    "    plt.subplot(1, 3, 1)\n",
    "    plt.imshow(cv2.cvtColor(image, cv2.COLOR_BGR2RGB))\n",
    "    plt.title(\"Original Image : \" + ffd)\n",
    "    plt.subplot(1, 3, 2)\n",
    "    plt.imshow(mask, cmap='gray')\n",
    "    plt.title('Iris Mask')\n",
    "    plt.subplot(1, 3, 3)\n",
    "    plt.imshow(cv2.cvtColor(masked_image, cv2.COLOR_BGR2RGB))\n",
    "    plt.title('Masked Image')\n",
    "    plt.show()\n",
    "\n",
    "def showImg(index):\n",
    "    ffd = 'Alcoholic' if labels[index] else 'Fit for Duty'\n",
    "    image = images[index]\n",
    "    name = names[index]\n",
    "    if (name not in segments):\n",
    "        print(\"Segmentation not found for this image\")\n",
    "        return\n",
    "    segment = segments[name]\n",
    "    print(image.shape)\n",
    "    mask = generate_mask(image.shape, segment)\n",
    "    masked_image = apply_mask_to_image(image, mask)\n",
    "    display_images(image, mask, masked_image, ffd)\n",
    "    print(names[index])"
   ]
  },
  {
   "cell_type": "markdown",
   "metadata": {},
   "source": [
    "Step 1: Loading DataSet"
   ]
  },
  {
   "cell_type": "code",
   "execution_count": 3,
   "metadata": {},
   "outputs": [
    {
     "name": "stderr",
     "output_type": "stream",
     "text": [
      "[ERROR:0@15.698] global loadsave.cpp:478 imread_ imread_('data/Grupo_4/E_4_1/Iritech/E_4_1_3/E_4_1_3_R_5/E_4_1_3_R_M_N_N_1996_23_2017.bmp'): can't read data: OpenCV(4.9.0) /Users/xperience/GHA-OpenCV-Python2/_work/opencv-python/opencv-python/opencv/modules/imgcodecs/src/bitstrm.cpp:110: error: (-2:Unspecified error) Unexpected end of input stream in function 'readBlock'\n",
      "\n",
      "[ERROR:0@15.752] global loadsave.cpp:478 imread_ imread_('data/Grupo_4/E_4_1/Iritech/E_4_1_4/E_4_1_4_L_M_N_N_1996_0_2017.bmp'): can't read data: OpenCV(4.9.0) /Users/xperience/GHA-OpenCV-Python2/_work/opencv-python/opencv-python/opencv/modules/imgcodecs/src/bitstrm.cpp:110: error: (-2:Unspecified error) Unexpected end of input stream in function 'readBlock'\n",
      "\n",
      "[ERROR:0@15.759] global loadsave.cpp:478 imread_ imread_('data/Grupo_4/E_4_1/Iritech/E_4_1_4/E_4_1_4_R_5/E_4_1_4_R_M_N_N_1996_80_2017.bmp'): can't read data: OpenCV(4.9.0) /Users/xperience/GHA-OpenCV-Python2/_work/opencv-python/opencv-python/opencv/modules/imgcodecs/src/bitstrm.cpp:110: error: (-2:Unspecified error) Unexpected end of input stream in function 'readBlock'\n",
      "\n",
      "[ERROR:0@16.199] global loadsave.cpp:478 imread_ imread_('data/Grupo_4/E_4_1/Iritech/E_4_1_1/E_4_1_1_R_5/E_4_1_1_R_M_N_N_1996_50_2017.bmp'): can't read data: OpenCV(4.9.0) /Users/xperience/GHA-OpenCV-Python2/_work/opencv-python/opencv-python/opencv/modules/imgcodecs/src/bitstrm.cpp:110: error: (-2:Unspecified error) Unexpected end of input stream in function 'readBlock'\n",
      "\n",
      "[ERROR:0@16.453] global loadsave.cpp:478 imread_ imread_('data/Grupo_4/E_4_0/Iritech/E_4_0_0/E_4_0_0_R_5/E_4_0_0_R_M_N_N_1997_4_2017.bmp'): can't read data: OpenCV(4.9.0) /Users/xperience/GHA-OpenCV-Python2/_work/opencv-python/opencv-python/opencv/modules/imgcodecs/src/bitstrm.cpp:110: error: (-2:Unspecified error) Unexpected end of input stream in function 'readBlock'\n",
      "\n"
     ]
    },
    {
     "name": "stdout",
     "output_type": "stream",
     "text": [
      "Following 0 files are corrupt or encountered error: \n",
      " []\n",
      "Read 25201 images from the data folder with shape (25201, 480, 640)\n"
     ]
    }
   ],
   "source": [
    "def load_images_from_folder(folder_path, max_depth = 5):\n",
    "    images = []\n",
    "    labels = []\n",
    "    names = []\n",
    "    corruptedFiles = []\n",
    "    image_extensions = [\"bmp\"]\n",
    "\n",
    "    all_segments = {}\n",
    "\n",
    "    for root, dirs, files in os.walk(folder_path):\n",
    "        current_depth = root[len(folder_path):].count(os.sep)\n",
    "\n",
    "        if ('LG' in root):\n",
    "            current_depth -= 1\n",
    "        \n",
    "\n",
    "        if current_depth <= max_depth:\n",
    "            for file in files:\n",
    "                if any(file.lower().endswith(ext) for ext in image_extensions):\n",
    "                    img_path = os.path.join(root, file)\n",
    "                    try:\n",
    "                        img = cv2.imread(img_path, cv2.IMREAD_GRAYSCALE)\n",
    "                        if img is not None:\n",
    "                            # img = cv2.resize(img, image_size)\n",
    "                            images.append(img)\n",
    "                            labels.append(file[6]!='0')\n",
    "                            names.append(file)\n",
    "                    except:\n",
    "                        corruptedFiles.append(img_path)\n",
    "                \n",
    "                if file.endswith('.json'):\n",
    "                    json_file_path = os.path.join(root, file)\n",
    "                    json_data = load_json_data(json_file_path)\n",
    "                    segments = extract_segments(json_data)\n",
    "                    all_segments.update(segments)\n",
    "\n",
    "        else:\n",
    "            del dirs[:]\n",
    "    \n",
    "    print(f\"Following {len(corruptedFiles)} files are corrupt or encountered error: \\n {corruptedFiles}\")\n",
    "\n",
    "    return np.array(images), np.array(labels), np.array(names), all_segments\n",
    "\n",
    "images, labels, names, segments = load_images_from_folder(dataset_path)\n",
    "print(f\"Read {len(images)} images from the data folder with shape {images.shape}\")"
   ]
  },
  {
   "cell_type": "code",
   "execution_count": 4,
   "metadata": {},
   "outputs": [
    {
     "name": "stdout",
     "output_type": "stream",
     "text": [
      "Randome index: 12171\n",
      "Segmentation not found for this image\n"
     ]
    }
   ],
   "source": [
    "ri = random.randint(0, len(images) - 1)\n",
    "print(\"Randome index: \" + str(ri))\n",
    "showImg(ri)"
   ]
  },
  {
   "cell_type": "code",
   "execution_count": 5,
   "metadata": {},
   "outputs": [
    {
     "name": "stdout",
     "output_type": "stream",
     "text": [
      "(480, 640)\n",
      "25200\n"
     ]
    }
   ],
   "source": [
    "images = get_segmented_images(images, names, segments)"
   ]
  },
  {
   "cell_type": "code",
   "execution_count": 6,
   "metadata": {},
   "outputs": [],
   "source": [
    "images = np.array(images)"
   ]
  },
  {
   "cell_type": "code",
   "execution_count": 7,
   "metadata": {},
   "outputs": [
    {
     "name": "stdout",
     "output_type": "stream",
     "text": [
      "Randome index: 4909\n"
     ]
    },
    {
     "data": {
      "text/plain": [
       "<matplotlib.image.AxesImage at 0x28c919950>"
      ]
     },
     "execution_count": 7,
     "metadata": {},
     "output_type": "execute_result"
    },
    {
     "data": {
      "image/png": "[encoded data removed]",
      "text/plain": [
       "<Figure size 640x480 with 1 Axes>"
      ]
     },
     "metadata": {},
     "output_type": "display_data"
    }
   ],
   "source": [
    "ri = random.randint(0, len(images) - 1)\n",
    "print(\"Randome index: \" + str(ri))\n",
    "plt.imshow(images[ri], cmap='gray')"
   ]
  },
  {
   "cell_type": "markdown",
   "metadata": {},
   "source": [
    "Step 2: Split images and labels into 80-20 random train test split and train cnn"
   ]
  },
  {
   "cell_type": "code",
   "execution_count": 8,
   "metadata": {},
   "outputs": [],
   "source": [
    "images_train, images_test, labels_train, labels_test = train_test_split(images, labels, test_size=0.2, random_state=20)\n",
    "\n",
    "labels_train_cnn = to_categorical(labels_train, num_classes=2)\n",
    "labels_test_cnn = to_categorical(labels_test, num_classes=2)"
   ]
  },
  {
   "cell_type": "code",
   "execution_count": 9,
   "metadata": {},
   "outputs": [
    {
     "name": "stderr",
     "output_type": "stream",
     "text": [
      "/Library/Frameworks/Python.framework/Versions/3.11/lib/python3.11/site-packages/keras/src/layers/convolutional/base_conv.py:107: UserWarning: Do not pass an `input_shape`/`input_dim` argument to a layer. When using Sequential models, prefer using an `Input(shape)` object as the first layer in the model instead.\n",
      "  super().__init__(activity_regularizer=activity_regularizer, **kwargs)\n"
     ]
    }
   ],
   "source": [
    "cnn_model = Sequential([\n",
    "    Conv2D(32, (3, 3), activation='relu', input_shape=image_size+(1,)),\n",
    "    MaxPooling2D((2, 2)),\n",
    "    Conv2D(64, (3, 3), activation='relu'),\n",
    "    MaxPooling2D((2, 2)),\n",
    "    Flatten(),\n",
    "    Dense(128, activation='relu'),\n",
    "    Dropout(0.5),\n",
    "    Dense(2, activation='softmax')\n",
    "])\n",
    "\n",
    "cnn_model.compile(optimizer='adam', loss='categorical_crossentropy', metrics=['accuracy'])\n"
   ]
  },
  {
   "cell_type": "code",
   "execution_count": 10,
   "metadata": {},
   "outputs": [
    {
     "name": "stdout",
     "output_type": "stream",
     "text": [
      "20160\n",
      "20160\n",
      "(144, 192)\n"
     ]
    }
   ],
   "source": [
    "print(len(images_train))\n",
    "print(len(labels_train_cnn))\n",
    "print(images_train[0].shape)"
   ]
  },
  {
   "cell_type": "code",
   "execution_count": 11,
   "metadata": {},
   "outputs": [
    {
     "name": "stdout",
     "output_type": "stream",
     "text": [
      "Epoch 1/10\n",
      "\u001b[1m630/630\u001b[0m \u001b[32m━━━━━━━━━━━━━━━━━━━━\u001b[0m\u001b[37m\u001b[0m \u001b[1m172s\u001b[0m 272ms/step - accuracy: 0.7902 - loss: 4.5312\n",
      "Epoch 2/10\n",
      "\u001b[1m630/630\u001b[0m \u001b[32m━━━━━━━━━━━━━━━━━━━━\u001b[0m\u001b[37m\u001b[0m \u001b[1m171s\u001b[0m 271ms/step - accuracy: 0.8755 - loss: 0.3082\n",
      "Epoch 3/10\n",
      "\u001b[1m630/630\u001b[0m \u001b[32m━━━━━━━━━━━━━━━━━━━━\u001b[0m\u001b[37m\u001b[0m \u001b[1m164s\u001b[0m 261ms/step - accuracy: 0.9090 - loss: 0.2258\n",
      "Epoch 4/10\n",
      "\u001b[1m630/630\u001b[0m \u001b[32m━━━━━━━━━━━━━━━━━━━━\u001b[0m\u001b[37m\u001b[0m \u001b[1m3456s\u001b[0m 5s/step - accuracy: 0.9316 - loss: 0.1670\n",
      "Epoch 5/10\n",
      "\u001b[1m630/630\u001b[0m \u001b[32m━━━━━━━━━━━━━━━━━━━━\u001b[0m\u001b[37m\u001b[0m \u001b[1m171s\u001b[0m 272ms/step - accuracy: 0.9368 - loss: 0.1456\n",
      "Epoch 6/10\n",
      "\u001b[1m630/630\u001b[0m \u001b[32m━━━━━━━━━━━━━━━━━━━━\u001b[0m\u001b[37m\u001b[0m \u001b[1m730s\u001b[0m 1s/step - accuracy: 0.9430 - loss: 0.1372\n",
      "Epoch 7/10\n",
      "\u001b[1m630/630\u001b[0m \u001b[32m━━━━━━━━━━━━━━━━━━━━\u001b[0m\u001b[37m\u001b[0m \u001b[1m156s\u001b[0m 247ms/step - accuracy: 0.9556 - loss: 0.1086\n",
      "Epoch 8/10\n",
      "\u001b[1m630/630\u001b[0m \u001b[32m━━━━━━━━━━━━━━━━━━━━\u001b[0m\u001b[37m\u001b[0m \u001b[1m161s\u001b[0m 255ms/step - accuracy: 0.9602 - loss: 0.0951\n",
      "Epoch 9/10\n",
      "\u001b[1m630/630\u001b[0m \u001b[32m━━━━━━━━━━━━━━━━━━━━\u001b[0m\u001b[37m\u001b[0m \u001b[1m157s\u001b[0m 250ms/step - accuracy: 0.9616 - loss: 0.0929\n",
      "Epoch 10/10\n",
      "\u001b[1m630/630\u001b[0m \u001b[32m━━━━━━━━━━━━━━━━━━━━\u001b[0m\u001b[37m\u001b[0m \u001b[1m163s\u001b[0m 259ms/step - accuracy: 0.9643 - loss: 0.0909\n"
     ]
    },
    {
     "data": {
      "text/plain": [
       "<keras.src.callbacks.history.History at 0x289dd2dd0>"
      ]
     },
     "execution_count": 11,
     "metadata": {},
     "output_type": "execute_result"
    }
   ],
   "source": [
    "cnn_model.fit(images_train, labels_train_cnn, epochs=10, batch_size=32)"
   ]
  },
  {
   "cell_type": "code",
   "execution_count": 12,
   "metadata": {},
   "outputs": [
    {
     "name": "stdout",
     "output_type": "stream",
     "text": [
      "\u001b[1m158/158\u001b[0m \u001b[32m━━━━━━━━━━━━━━━━━━━━\u001b[0m\u001b[37m\u001b[0m \u001b[1m11s\u001b[0m 68ms/step - accuracy: 0.9487 - loss: 0.1574\n",
      "CNN Test Accuracy: 94.43%\n"
     ]
    }
   ],
   "source": [
    "#Testing model\n",
    "cnn_loss, cnn_accuracy = cnn_model.evaluate(images_test, labels_test_cnn)\n",
    "print(f\"CNN Test Accuracy: {cnn_accuracy * 100:.2f}%\")"
   ]
  },
  {
   "cell_type": "code",
   "execution_count": 13,
   "metadata": {},
   "outputs": [
    {
     "name": "stdout",
     "output_type": "stream",
     "text": [
      "\u001b[1m158/158\u001b[0m \u001b[32m━━━━━━━━━━━━━━━━━━━━\u001b[0m\u001b[37m\u001b[0m \u001b[1m11s\u001b[0m 67ms/step\n",
      "(5041, 144, 192)\n",
      "              precision    recall  f1-score   support\n",
      "\n",
      "         FFD       0.94      0.77      0.85      1029\n",
      "   Alcoholic       0.94      0.99      0.97      4012\n",
      "\n",
      "    accuracy                           0.94      5041\n",
      "   macro avg       0.94      0.88      0.91      5041\n",
      "weighted avg       0.94      0.94      0.94      5041\n",
      "\n",
      "Overall Accuracy: 94.43%\n"
     ]
    }
   ],
   "source": [
    "from sklearn.metrics import classification_report, accuracy_score\n",
    "\n",
    "predictions = cnn_model.predict(images_test)\n",
    "predicted_classes = np.argmax(predictions, axis=1)\n",
    "true_classes = np.argmax(labels_test_cnn, axis=1)\n",
    "\n",
    "print(images_test.shape)\n",
    "\n",
    "\n",
    "report = classification_report(true_classes, predicted_classes, target_names=['FFD', 'Alcoholic'])\n",
    "print(report)\n",
    "\n",
    "accuracy = accuracy_score(true_classes, predicted_classes)\n",
    "print(f'Overall Accuracy: {accuracy * 100:.2f}%')"
   ]
  },
  {
   "cell_type": "markdown",
   "metadata": {},
   "source": [
    "Demonstration"
   ]
  },
  {
   "cell_type": "code",
   "execution_count": 14,
   "metadata": {},
   "outputs": [],
   "source": [
    "totalTest = 0\n",
    "correctTest = 0"
   ]
  },
  {
   "cell_type": "code",
   "execution_count": 60,
   "metadata": {},
   "outputs": [
    {
     "name": "stdout",
     "output_type": "stream",
     "text": [
      "(1, 144, 192)\n",
      "\u001b[1m1/1\u001b[0m \u001b[32m━━━━━━━━━━━━━━━━━━━━\u001b[0m\u001b[37m\u001b[0m \u001b[1m0s\u001b[0m 15ms/step\n"
     ]
    },
    {
     "data": {
      "text/plain": [
       "Text(0.5, 1.0, 'Name: E_1_1_4_L_M_N_N_1983_7_2017.bmp\\n\\nPrediction: Alcoholic\\nActual: Alcoholic\\n\\nAccuracy: 1.0')"
      ]
     },
     "execution_count": 60,
     "metadata": {},
     "output_type": "execute_result"
    },
    {
     "data": {
      "image/png": "[encoded data removed]",
      "text/plain": [
       "<Figure size 640x480 with 1 Axes>"
      ]
     },
     "metadata": {},
     "output_type": "display_data"
    }
   ],
   "source": [
    "# testImagePath = 'images/test2.png'\n",
    "# testImg = cv2.imread(testImagePath, cv2.IMREAD_GRAYSCALE)\n",
    "\n",
    "r_in = random.randint(0, len(images) - 1)\n",
    "\n",
    "testImg = images[r_in]\n",
    "testLabel = labels[r_in]\n",
    "testImg = cv2.resize(testImg, image_size)\n",
    "\n",
    "plt.imshow(testImg, cmap='gray')\n",
    "\n",
    "testImg = np.expand_dims(testImg, axis=0)\n",
    "\n",
    "print(testImg.shape)\n",
    "\n",
    "prediction = cnn_model.predict(testImg)\n",
    "prediction = np.argmax(prediction[0])\n",
    "\n",
    "totalTest +=1\n",
    "correctTest += prediction==testLabel\n",
    "\n",
    "prediction = 'Alcoholic' if prediction else 'Fit for duty'\n",
    "testLabel = 'Alcoholic' if testLabel else 'Fit for duty'\n",
    "plt.title(f'Name: {names[r_in]}\\n\\nPrediction: {prediction}\\nActual: {testLabel}\\n\\nAccuracy: {correctTest/totalTest}')"
   ]
  }
 ],
 "metadata": {
  "kernelspec": {
   "display_name": "Python 3",
   "language": "python",
   "name": "python3"
  },
  "language_info": {
   "codemirror_mode": {
    "name": "ipython",
    "version": 3
   },
   "file_extension": ".py",
   "mimetype": "text/x-python",
   "name": "python",
   "nbconvert_exporter": "python",
   "pygments_lexer": "ipython3",
   "version": "3.11.2"
  }
 },
 "nbformat": 4,
 "nbformat_minor": 2
}

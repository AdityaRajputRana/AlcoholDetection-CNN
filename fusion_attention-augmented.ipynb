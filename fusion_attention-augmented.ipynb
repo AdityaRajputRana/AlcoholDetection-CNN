{
 "cells": [
  {
   "cell_type": "code",
   "execution_count": 6,
   "metadata": {},
   "outputs": [
    {
     "name": "stdout",
     "output_type": "stream",
     "text": [
      "Our dataset = \n",
      "['Grupo_0', 'Grupo_1', '.DS_Store', 'Grupo_4', 'Grupo_3', 'Grupo_2', 'Grupo_5']\n"
     ]
    }
   ],
   "source": [
    "import os\n",
    "import numpy as np\n",
    "import cv2\n",
    "import random\n",
    "from matplotlib import pyplot as plt\n",
    "from sklearn.model_selection import train_test_split\n",
    "from sklearn.metrics import classification_report, accuracy_score\n",
    "from tensorflow.keras.layers import Dense, Flatten, Dropout\n",
    "from tensorflow.keras.models import Sequential\n",
    "from tensorflow.keras.preprocessing.image import ImageDataGenerator\n",
    "from tensorflow.keras.utils import to_categorical\n",
    "from tensorflow.keras.layers import Dense, Flatten, Conv2D, MaxPooling2D\n",
    "from tensorflow.keras import layers, models, Input\n",
    "import tensorflow as tf\n",
    "\n",
    "\n",
    "dataset_path = \"data\"\n",
    "image_size = (192, 192)\n",
    "unet_model_path = \"Models/SegmentationModelUnet/model.keras\"\n",
    "\n",
    "dataset_path = \"data\"\n",
    "\n",
    "print('Our dataset = ')\n",
    "print(os.listdir(dataset_path))"
   ]
  },
  {
   "cell_type": "code",
   "execution_count": 7,
   "metadata": {},
   "outputs": [
    {
     "name": "stdout",
     "output_type": "stream",
     "text": [
      "Following 0 files are corrupt or encountered error: \n",
      " []\n",
      "Read 2820 images from the data folder with shape (2820, 192, 192)\n"
     ]
    }
   ],
   "source": [
    "def load_images_from_folder(folder_path, max_depth = 5):\n",
    "    images = []\n",
    "    labels = []\n",
    "    names = []\n",
    "    corruptedFiles = []\n",
    "    image_extensions = [\"bmp\"]\n",
    "\n",
    "    for root, dirs, files in os.walk(folder_path):\n",
    "        current_depth = root[len(folder_path):].count(os.sep)\n",
    "\n",
    "        if ('IriTech' in root) or ('Iritech' in root) or ('iriTech' in root) or ('iritech' in root):\n",
    "            continue\n",
    "        \n",
    "\n",
    "        if current_depth <= max_depth:\n",
    "            for file in files:\n",
    "                if any(file.lower().endswith(ext) for ext in image_extensions):\n",
    "                    img_path = os.path.join(root, file)\n",
    "                    try:\n",
    "                        img = cv2.imread(img_path, cv2.IMREAD_GRAYSCALE)\n",
    "                        if img is not None:\n",
    "                            img = cv2.resize(img, image_size)\n",
    "                            img = img/255\n",
    "                            images.append(img)\n",
    "                            labels.append(1 if file[6]!='0' else 0)\n",
    "                            names.append(file)\n",
    "                    except:\n",
    "                        corruptedFiles.append(img_path)\n",
    "\n",
    "        else:\n",
    "            del dirs[:]\n",
    "    \n",
    "    print(f\"Following {len(corruptedFiles)} files are corrupt or encountered error: \\n {corruptedFiles}\")\n",
    "\n",
    "    return np.array(images), np.array(labels), np.array(names)\n",
    "\n",
    "images, labels, names = load_images_from_folder(dataset_path)\n",
    "print(f\"Read {len(images)} images from the data folder with shape {images.shape}\")"
   ]
  },
  {
   "cell_type": "code",
   "execution_count": 8,
   "metadata": {},
   "outputs": [
    {
     "name": "stdout",
     "output_type": "stream",
     "text": [
      "Number of samples in Class 1 (FFD): 580\n",
      "Number of samples in Class 2 (Alcoholic): 2240\n",
      "Augmenting 1660 images for Class 1 to match Class 2.\n",
      "New size of Class 1: 2240\n",
      "New size of Class 2: 2240\n"
     ]
    }
   ],
   "source": [
    "#Removing Bias towards Alcohol Detection\n",
    "\n",
    "#Splitting Classes\n",
    "alcoholicClass = [images[i] for i in range(len(labels)) if labels[i] == 1]\n",
    "nonAlcoholicClass = [images[i] for i in range(len(labels)) if labels[i] == 0]\n",
    "\n",
    "alcoholicClass = np.array(alcoholicClass)\n",
    "nonAlcoholicClass = np.array(nonAlcoholicClass)\n",
    "\n",
    "#Data Generator Setup\n",
    "datagen = ImageDataGenerator(\n",
    "    rotation_range=4,\n",
    "    width_shift_range=0.05,\n",
    "    height_shift_range=0.05,\n",
    "    shear_range=0.025,\n",
    "    zoom_range=0.25,\n",
    "    horizontal_flip=True,\n",
    "    fill_mode='nearest'\n",
    ")\n",
    "\n",
    "#Augmentation:\n",
    "\n",
    "n1 = len(nonAlcoholicClass)\n",
    "n2 = len(alcoholicClass)\n",
    "target_size = n2\n",
    "augmentation_needed = target_size - n1\n",
    "\n",
    "print(f'Number of samples in Class 1 (FFD): {n1}')\n",
    "print(f'Number of samples in Class 2 (Alcoholic): {n2}')\n",
    "print(f'Augmenting {augmentation_needed} images for Class 1 to match Class 2.')\n",
    "\n",
    "augmented_images = []\n",
    "for i in range(augmentation_needed):\n",
    "    img = nonAlcoholicClass[i % n1]  \n",
    "    img = np.expand_dims(img, axis=-1)\n",
    "    img = np.expand_dims(img, axis=0)  \n",
    "    augmented_img = next(datagen.flow(img, batch_size=1))[0]\n",
    "    augmented_img = np.squeeze(augmented_img, axis=-1)\n",
    "    augmented_img = augmented_img.astype(int)\n",
    "    augmented_images.append(augmented_img)\n",
    "\n",
    "augmented_images = np.array(augmented_images)\n",
    "\n",
    "concagtedClassNon = np.concatenate([nonAlcoholicClass, augmented_images], axis=0)\n",
    "\n",
    "print(f'New size of Class 1: {len(alcoholicClass)}')\n",
    "print(f'New size of Class 2: {len(concagtedClassNon)}')"
   ]
  },
  {
   "cell_type": "code",
   "execution_count": 9,
   "metadata": {},
   "outputs": [
    {
     "name": "stdout",
     "output_type": "stream",
     "text": [
      "Total number of images after augmentation: 4480\n",
      "Shape of final images array: (4480, 192, 192)\n",
      "Shape of final labels array: (4480,)\n"
     ]
    }
   ],
   "source": [
    "alcoholic_labels = np.ones(len(alcoholicClass))\n",
    "nonAlcoholic_labels = np.zeros(len(concagtedClassNon))\n",
    "\n",
    "images = np.concatenate([alcoholicClass, concagtedClassNon], axis=0)\n",
    "labels = np.concatenate([alcoholic_labels, nonAlcoholic_labels], axis=0)\n",
    "\n",
    "shuffled_indices = np.random.permutation(len(images))\n",
    "images = images[shuffled_indices]\n",
    "labels = labels[shuffled_indices]\n",
    "\n",
    "print(f\"Total number of images after augmentation: {len(images)}\")\n",
    "print(f\"Shape of final images array: {images.shape}\")\n",
    "print(f\"Shape of final labels array: {labels.shape}\")"
   ]
  },
  {
   "cell_type": "code",
   "execution_count": 10,
   "metadata": {},
   "outputs": [
    {
     "name": "stdout",
     "output_type": "stream",
     "text": [
      "(4480, 192, 192)\n",
      "\u001b[1m140/140\u001b[0m \u001b[32m━━━━━━━━━━━━━━━━━━━━\u001b[0m\u001b[37m\u001b[0m \u001b[1m125s\u001b[0m 895ms/step\n",
      "(4480, 192, 192, 1)\n"
     ]
    }
   ],
   "source": [
    "#Segmenting Images\n",
    "print(images.shape)\n",
    "\n",
    "unet_model = tf.keras.models.load_model(unet_model_path)\n",
    "segmentedImages = unet_model.predict(images)\n",
    "\n",
    "print(segmentedImages.shape)"
   ]
  },
  {
   "cell_type": "code",
   "execution_count": 11,
   "metadata": {},
   "outputs": [
    {
     "name": "stdout",
     "output_type": "stream",
     "text": [
      "Images shape changed to: (4480, 192, 192, 1)\n"
     ]
    }
   ],
   "source": [
    "images = np.expand_dims(images, -1)\n",
    "print(f\"Images shape changed to: {images.shape}\")"
   ]
  },
  {
   "cell_type": "code",
   "execution_count": 12,
   "metadata": {},
   "outputs": [
    {
     "data": {
      "image/png": "[encoded data removed]",
      "text/plain": [
       "<Figure size 640x480 with 2 Axes>"
      ]
     },
     "metadata": {},
     "output_type": "display_data"
    }
   ],
   "source": [
    "plt.subplot(1, 2, 1)\n",
    "plt.imshow(images[90], cmap='gray')\n",
    "\n",
    "plt.subplot(1, 2, 2)\n",
    "plt.imshow(segmentedImages[90], cmap='gray')\n",
    "plt.show()"
   ]
  },
  {
   "cell_type": "code",
   "execution_count": 13,
   "metadata": {},
   "outputs": [],
   "source": [
    "def attention_module(x):\n",
    "    # Simple attention block (SE-style)\n",
    "    se = layers.GlobalAveragePooling2D()(x)\n",
    "    se = layers.Dense(x.shape[-1] // 8, activation='relu')(se)\n",
    "    se = layers.Dense(x.shape[-1], activation='sigmoid')(se)\n",
    "    se = layers.Reshape((1, 1, x.shape[-1]))(se)\n",
    "    return layers.Multiply()([x, se])\n",
    "\n",
    "def feature_extraction_branch(input_shape):\n",
    "    inp = Input(shape=input_shape)\n",
    "    x = layers.Conv2D(32, 3, activation='relu', padding='same')(inp)\n",
    "    x = layers.MaxPooling2D()(x)\n",
    "    x = layers.Conv2D(64, 3, activation='relu', padding='same')(x)\n",
    "    x = layers.MaxPooling2D()(x)\n",
    "    x = attention_module(x)\n",
    "    x = layers.Conv2D(128, 3, activation='relu', padding='same')(x)\n",
    "    x = layers.GlobalAveragePooling2D()(x)\n",
    "    x = layers.Dense(64, activation='relu')(x)\n",
    "    return models.Model(inp, x)\n",
    "\n",
    "def fusion_classification_model(input_shape):\n",
    "    input1 = Input(shape=input_shape, name='raw_input')\n",
    "    input2 = Input(shape=input_shape, name='seg_input')\n",
    "\n",
    "    branch = feature_extraction_branch(input_shape)\n",
    "\n",
    "    feat1 = branch(input1)\n",
    "    feat2 = branch(input2)\n",
    "\n",
    "    # Fusion\n",
    "    fused = layers.Concatenate()([feat1, feat2])\n",
    "    fused = layers.Dense(64, activation='relu')(fused)\n",
    "    fused = layers.Dropout(0.5)(fused)\n",
    "    output = layers.Dense(1, activation='sigmoid')(fused)\n",
    "\n",
    "    return models.Model(inputs=[input1, input2], outputs=output)\n"
   ]
  },
  {
   "cell_type": "code",
   "execution_count": null,
   "metadata": {},
   "outputs": [],
   "source": [
    "def attention_module(x):\n",
    "    # Simple attention block (SE-style)\n",
    "    se = layers.GlobalAveragePooling2D()(x)\n",
    "    se = layers.Dense(x.shape[-1] // 8, activation='relu')(se)\n",
    "    se = layers.Dense(x.shape[-1], activation='sigmoid')(se)\n",
    "    se = layers.Reshape((1, 1, x.shape[-1]))(se)\n",
    "    return layers.Multiply()([x, se])\n",
    "\n",
    "def feature_extraction_branch(input_shape):\n",
    "    inp = Input(shape=input_shape)\n",
    "    x = layers.Conv2D(32, 3, activation='relu', padding='same')(inp)\n",
    "    x = layers.MaxPooling2D()(x)\n",
    "    x = layers.Conv2D(64, 3, activation='relu', padding='same')(x)\n",
    "    x = layers.MaxPooling2D()(x)\n",
    "    x = attention_module(x)\n",
    "    x = layers.Conv2D(128, 3, activation='relu', padding='same')(x)\n",
    "    x = layers.GlobalAveragePooling2D()(x)\n",
    "    x = layers.Dense(64, activation='relu')(x)\n",
    "    return models.Model(inp, x)\n",
    "\n",
    "def fusion_classification_model(input_shape):\n",
    "    input1 = Input(shape=input_shape, name='raw_input')\n",
    "    input2 = Input(shape=input_shape, name='seg_input')\n",
    "\n",
    "    branch = feature_extraction_branch(input_shape)\n",
    "\n",
    "    feat1 = branch(input1)\n",
    "    feat2 = branch(input2)\n",
    "\n",
    "    # Fusion\n",
    "    fused = layers.Concatenate()([feat1, feat2])\n",
    "    fused = layers.Dense(64, activation='relu')(fused)\n",
    "    fused = layers.Dropout(0.5)(fused)\n",
    "    output = layers.Dense(1, activation='sigmoid')(fused)\n",
    "\n",
    "    return models.Model(inputs=[input1, input2], outputs=output)\n"
   ]
  },
  {
   "cell_type": "code",
   "execution_count": 14,
   "metadata": {},
   "outputs": [
    {
     "name": "stdout",
     "output_type": "stream",
     "text": [
      "(4480,)\n",
      "(4480, 1)\n"
     ]
    }
   ],
   "source": [
    "print(labels.shape)\n",
    "lables = labels.astype(\"float32\").reshape(-1, 1)\n",
    "print(lables.shape)"
   ]
  },
  {
   "cell_type": "code",
   "execution_count": 15,
   "metadata": {},
   "outputs": [],
   "source": [
    "images_train, images_test, segImages_train, segImages_test, labels_train, labels_test = train_test_split(images, segmentedImages, labels, test_size=0.7, random_state=23)"
   ]
  },
  {
   "cell_type": "code",
   "execution_count": 16,
   "metadata": {},
   "outputs": [],
   "source": [
    "model = fusion_classification_model((192, 192, 1))\n",
    "model.compile(optimizer='adam', loss='binary_crossentropy', metrics=['accuracy'])"
   ]
  },
  {
   "cell_type": "code",
   "execution_count": 17,
   "metadata": {},
   "outputs": [
    {
     "name": "stdout",
     "output_type": "stream",
     "text": [
      "Epoch 1/10\n",
      "\u001b[1m42/42\u001b[0m \u001b[32m━━━━━━━━━━━━━━━━━━━━\u001b[0m\u001b[37m\u001b[0m \u001b[1m13s\u001b[0m 246ms/step - accuracy: 0.6957 - loss: 0.6043\n",
      "Epoch 2/10\n",
      "\u001b[1m42/42\u001b[0m \u001b[32m━━━━━━━━━━━━━━━━━━━━\u001b[0m\u001b[37m\u001b[0m \u001b[1m11s\u001b[0m 252ms/step - accuracy: 0.8733 - loss: 0.3290\n",
      "Epoch 3/10\n",
      "\u001b[1m42/42\u001b[0m \u001b[32m━━━━━━━━━━━━━━━━━━━━\u001b[0m\u001b[37m\u001b[0m \u001b[1m11s\u001b[0m 258ms/step - accuracy: 0.8702 - loss: 0.3247\n",
      "Epoch 4/10\n",
      "\u001b[1m42/42\u001b[0m \u001b[32m━━━━━━━━━━━━━━━━━━━━\u001b[0m\u001b[37m\u001b[0m \u001b[1m11s\u001b[0m 252ms/step - accuracy: 0.8705 - loss: 0.3349\n",
      "Epoch 5/10\n",
      "\u001b[1m42/42\u001b[0m \u001b[32m━━━━━━━━━━━━━━━━━━━━\u001b[0m\u001b[37m\u001b[0m \u001b[1m10s\u001b[0m 244ms/step - accuracy: 0.8871 - loss: 0.2954\n",
      "Epoch 6/10\n",
      "\u001b[1m42/42\u001b[0m \u001b[32m━━━━━━━━━━━━━━━━━━━━\u001b[0m\u001b[37m\u001b[0m \u001b[1m10s\u001b[0m 246ms/step - accuracy: 0.9042 - loss: 0.2754\n",
      "Epoch 7/10\n",
      "\u001b[1m42/42\u001b[0m \u001b[32m━━━━━━━━━━━━━━━━━━━━\u001b[0m\u001b[37m\u001b[0m \u001b[1m10s\u001b[0m 244ms/step - accuracy: 0.8800 - loss: 0.3211\n",
      "Epoch 8/10\n",
      "\u001b[1m42/42\u001b[0m \u001b[32m━━━━━━━━━━━━━━━━━━━━\u001b[0m\u001b[37m\u001b[0m \u001b[1m10s\u001b[0m 244ms/step - accuracy: 0.8856 - loss: 0.3104\n",
      "Epoch 9/10\n",
      "\u001b[1m42/42\u001b[0m \u001b[32m━━━━━━━━━━━━━━━━━━━━\u001b[0m\u001b[37m\u001b[0m \u001b[1m10s\u001b[0m 245ms/step - accuracy: 0.8755 - loss: 0.3164\n",
      "Epoch 10/10\n",
      "\u001b[1m42/42\u001b[0m \u001b[32m━━━━━━━━━━━━━━━━━━━━\u001b[0m\u001b[37m\u001b[0m \u001b[1m11s\u001b[0m 251ms/step - accuracy: 0.8867 - loss: 0.3034\n"
     ]
    },
    {
     "data": {
      "text/plain": [
       "<keras.src.callbacks.history.History at 0x2f7ea1290>"
      ]
     },
     "execution_count": 17,
     "metadata": {},
     "output_type": "execute_result"
    }
   ],
   "source": [
    "model.fit([images_train, segImages_train], labels_train, epochs=10, batch_size=32)"
   ]
  },
  {
   "cell_type": "code",
   "execution_count": 18,
   "metadata": {},
   "outputs": [
    {
     "name": "stdout",
     "output_type": "stream",
     "text": [
      "\u001b[1m98/98\u001b[0m \u001b[32m━━━━━━━━━━━━━━━━━━━━\u001b[0m\u001b[37m\u001b[0m \u001b[1m7s\u001b[0m 72ms/step - accuracy: 0.8660 - loss: 0.3293\n",
      "CNN Test Accuracy: 86.48%\n",
      "\u001b[1m98/98\u001b[0m \u001b[32m━━━━━━━━━━━━━━━━━━━━\u001b[0m\u001b[37m\u001b[0m \u001b[1m6s\u001b[0m 64ms/step\n",
      "              precision    recall  f1-score   support\n",
      "\n",
      "Fit for Duty       1.00      0.73      0.85      1581\n",
      "   Alcoholic       0.79      1.00      0.88      1555\n",
      "\n",
      "    accuracy                           0.86      3136\n",
      "   macro avg       0.89      0.87      0.86      3136\n",
      "weighted avg       0.89      0.86      0.86      3136\n",
      "\n",
      "Overall Accuracy: 86.48%\n"
     ]
    }
   ],
   "source": [
    "loss, accuracy = model.evaluate([images_test, segImages_test], labels_test)\n",
    "print(f\"CNN Test Accuracy: {accuracy * 100:.2f}%\")\n",
    "\n",
    "predictions = model.predict([images_test, segImages_test])\n",
    "predicted_classes = (predictions > 0.5).astype(int).flatten()\n",
    "\n",
    "report = classification_report(labels_test.flatten(), predicted_classes, target_names=['Fit for Duty', 'Alcoholic'])\n",
    "print(report)\n",
    "\n",
    "print(f'Overall Accuracy: {accuracy * 100:.2f}%')"
   ]
  }
 ],
 "metadata": {
  "kernelspec": {
   "display_name": "Python 3",
   "language": "python",
   "name": "python3"
  },
  "language_info": {
   "codemirror_mode": {
    "name": "ipython",
    "version": 3
   },
   "file_extension": ".py",
   "mimetype": "text/x-python",
   "name": "python",
   "nbconvert_exporter": "python",
   "pygments_lexer": "ipython3",
   "version": "3.11.2"
  }
 },
 "nbformat": 4,
 "nbformat_minor": 2
}
